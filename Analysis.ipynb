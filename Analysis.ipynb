{
 "cells": [
  {
   "cell_type": "code",
   "execution_count": 47,
   "metadata": {},
   "outputs": [],
   "source": [
    "# 3rd party imports\n",
    "import pandas as pd"
   ]
  },
  {
   "cell_type": "code",
   "execution_count": 48,
   "metadata": {},
   "outputs": [],
   "source": [
    "# Load Data\n",
    "raw_data = pd.read_csv('raw_data.csv')"
   ]
  },
  {
   "cell_type": "code",
   "execution_count": 49,
   "metadata": {},
   "outputs": [],
   "source": [
    "# Set index col to 'PLAYER'\n",
    "raw_data.set_index('PLAYER', inplace = True)"
   ]
  },
  {
   "cell_type": "code",
   "execution_count": 50,
   "metadata": {},
   "outputs": [],
   "source": [
    "mins_df = raw_data['MINUTES PLAYED']"
   ]
  },
  {
   "cell_type": "code",
   "execution_count": 51,
   "metadata": {},
   "outputs": [],
   "source": [
    "# Extract all column names\n",
    "col_names = raw_data.columns"
   ]
  },
  {
   "cell_type": "code",
   "execution_count": 52,
   "metadata": {},
   "outputs": [],
   "source": [
    "# These are the point values for all the different player impacts\n",
    "values = [0, 15, 7, 2, 5, 7, 0.2, 0, 0, 0, 0, 0, 7, 0, 1, 0, 7, 7, 7, 0, 0, 0, 0, 0, 0, 7, -5, -10]"
   ]
  },
  {
   "cell_type": "code",
   "execution_count": 53,
   "metadata": {},
   "outputs": [],
   "source": [
    "# Create dict of player impacts and point values\n",
    "values_dict = dict(zip(col_names, values))"
   ]
  },
  {
   "cell_type": "code",
   "execution_count": 54,
   "metadata": {},
   "outputs": [],
   "source": [
    "# Multiply raw_data by values dict, the resultant dataframe has each players points total for each playing aspect\n",
    "points_data = raw_data.mul(values_dict)"
   ]
  },
  {
   "cell_type": "code",
   "execution_count": 55,
   "metadata": {},
   "outputs": [],
   "source": [
    "# Create truth vector of which cols have at least one none zero value\n",
    "relevant_cols = points_data.any().to_list()\n",
    "\n",
    "# Take just those cols from the list of all cols\n",
    "relevant_cols = col_names[relevant_cols]"
   ]
  },
  {
   "cell_type": "code",
   "execution_count": 56,
   "metadata": {},
   "outputs": [],
   "source": [
    "# Extract just cols of interest\n",
    "points_data = points_data[relevant_cols]"
   ]
  },
  {
   "cell_type": "code",
   "execution_count": 57,
   "metadata": {},
   "outputs": [],
   "source": [
    "# Calculate total points for each player\n",
    "points_data['TOTAL'] = points_data.sum(axis=1)"
   ]
  },
  {
   "cell_type": "code",
   "execution_count": 58,
   "metadata": {},
   "outputs": [],
   "source": [
    "# Add minutes played back\n",
    "players_df = pd.merge(points_data, mins_df, left_index=True, right_index=True)\n",
    "\n",
    "# Calculate points per minute\n",
    "players_df['POINTS PER MINUTE'] = players_df['TOTAL'] / players_df['MINUTES PLAYED']\n",
    "\n",
    "# Sort by points per minute\n",
    "players_df.sort_values(by='POINTS PER MINUTE', inplace=True, ascending=False)"
   ]
  },
  {
   "cell_type": "code",
   "execution_count": 59,
   "metadata": {},
   "outputs": [],
   "source": [
    "# Write results to new CSV\n",
    "players_df.to_csv('results.csv')"
   ]
  }
 ],
 "metadata": {
  "kernelspec": {
   "display_name": "rugby",
   "language": "python",
   "name": "python3"
  },
  "language_info": {
   "codemirror_mode": {
    "name": "ipython",
    "version": 3
   },
   "file_extension": ".py",
   "mimetype": "text/x-python",
   "name": "python",
   "nbconvert_exporter": "python",
   "pygments_lexer": "ipython3",
   "version": "3.9.16"
  },
  "orig_nbformat": 4,
  "vscode": {
   "interpreter": {
    "hash": "ce4c68dc325ef8c79b6f8f59c2996494c3279a53d4886f01011b4cd4fd4b23fd"
   }
  }
 },
 "nbformat": 4,
 "nbformat_minor": 2
}
