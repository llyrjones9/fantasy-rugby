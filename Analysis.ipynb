{
 "cells": [
  {
   "attachments": {},
   "cell_type": "markdown",
   "metadata": {},
   "source": [
    "Load and setup dependencies and data"
   ]
  },
  {
   "cell_type": "code",
   "execution_count": 88,
   "metadata": {},
   "outputs": [],
   "source": [
    "# 3rd party imports\n",
    "import pandas as pd"
   ]
  },
  {
   "cell_type": "code",
   "execution_count": 89,
   "metadata": {},
   "outputs": [],
   "source": [
    "# Load raw data downloaded from Six Nations website to DataFrame\n",
    "raw_data = pd.read_csv('raw_data.csv')"
   ]
  },
  {
   "cell_type": "code",
   "execution_count": 90,
   "metadata": {},
   "outputs": [],
   "source": [
    "# Create dict of player act and points values, these values are from the game rules.\n",
    "# ** A DUMMY VARIABLE OF ONE (1) HAS BEEN ADDED TO THE 'MINUTES PLAYED' COLUMN SO IT REMAINS UNCHANGED UPON MULTIPLICATION.**\n",
    "values_dict = {'MINUTES PLAYED': 1,\n",
    "               'TRIES': 15,\n",
    "               'TRY ASSISTS': 9,\n",
    "               'CONVERSIONS': 2,\n",
    "               'PENALTY GOALS': 3,\n",
    "               'DROP GOALS': 3,\n",
    "               'METRES MADE': 0.1,\n",
    "               'CARRIES': 0,\n",
    "               'METRES KICKED': 0,\n",
    "               'BALL PLAYED BY HAND': 0,\n",
    "               'PASSES MADE': 0,\n",
    "               'OFFLOADS': 2,\n",
    "               'BROKEN TACKLES': 2,\n",
    "               'KNOCK ONS': 0,\n",
    "               'TACKLES MADE': 1,\n",
    "               'MISSED TACKLES': -1,\n",
    "               'DOMINANT TACKLES': 0,\n",
    "               'TURNOVERS WON': 4,\n",
    "               'TURNOVERS WON IN THE TACKLE': 4,\n",
    "               'TURNOVERS CONCEDED': -1,\n",
    "               'HANDLING ERRORS': -1,\n",
    "               'PENS CONCEDED': -1,\n",
    "               'OFFSIDE PENALTIES': 0,\n",
    "               'SCRUM PENALTIES': 0,\n",
    "               'LINEOUTS WON': 1,\n",
    "               'LINEOUTS STOLEN': 5,\n",
    "               'YELLOW CARDS': -5,\n",
    "               'RED CARD': -10}"
   ]
  },
  {
   "attachments": {},
   "cell_type": "markdown",
   "metadata": {},
   "source": [
    "Data wrangling and analysis"
   ]
  },
  {
   "cell_type": "code",
   "execution_count": 91,
   "metadata": {},
   "outputs": [],
   "source": [
    "# Set index col to 'PLAYER'\n",
    "raw_data.set_index('PLAYER', inplace = True)"
   ]
  },
  {
   "cell_type": "code",
   "execution_count": 92,
   "metadata": {},
   "outputs": [],
   "source": [
    "# Multiply raw_data by values dict, the resultant DataFrame has each players points total for each playing aspect\n",
    "points_data = raw_data.mul(values_dict)"
   ]
  },
  {
   "cell_type": "code",
   "execution_count": 93,
   "metadata": {},
   "outputs": [],
   "source": [
    "# The raw data has excess columns which are not relevant to the game, remove any columns which are all zero.\n",
    "points_data = points_data.loc[:, (points_data!=0).any(axis=0)]"
   ]
  },
  {
   "cell_type": "code",
   "execution_count": 94,
   "metadata": {},
   "outputs": [],
   "source": [
    "# Calculate total points for each player (every column except 'MINUTES PLAYED)\n",
    "points_data['TOTAL'] = points_data.drop('MINUTES PLAYED', axis=1).sum(axis=1)"
   ]
  },
  {
   "cell_type": "code",
   "execution_count": 95,
   "metadata": {},
   "outputs": [],
   "source": [
    "# Calculate points per minute\n",
    "points_data['POINTS PER MINUTE'] = points_data['TOTAL'] / points_data['MINUTES PLAYED']\n",
    "\n",
    "# Sort by points per minute\n",
    "points_data.sort_values(by='POINTS PER MINUTE', inplace=True, ascending=False)"
   ]
  },
  {
   "attachments": {},
   "cell_type": "markdown",
   "metadata": {},
   "source": [
    "The `points_data` DataFrame can now be assessed by column to establish typical expected scoring pattern for any player/position"
   ]
  }
 ],
 "metadata": {
  "kernelspec": {
   "display_name": "rugby",
   "language": "python",
   "name": "python3"
  },
  "language_info": {
   "codemirror_mode": {
    "name": "ipython",
    "version": 3
   },
   "file_extension": ".py",
   "mimetype": "text/x-python",
   "name": "python",
   "nbconvert_exporter": "python",
   "pygments_lexer": "ipython3",
   "version": "3.11.3"
  },
  "orig_nbformat": 4,
  "vscode": {
   "interpreter": {
    "hash": "ce4c68dc325ef8c79b6f8f59c2996494c3279a53d4886f01011b4cd4fd4b23fd"
   }
  }
 },
 "nbformat": 4,
 "nbformat_minor": 2
}
